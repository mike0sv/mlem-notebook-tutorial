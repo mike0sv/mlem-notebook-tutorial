{
 "cells": [
  {
   "cell_type": "code",
   "execution_count": null,
   "id": "b1a82c43",
   "metadata": {},
   "outputs": [],
   "source": [
    "# ! pip install -U mlem scikit-learn fastapi uvicorn pandas numpy docker"
   ]
  },
  {
   "cell_type": "markdown",
   "id": "2c347150",
   "metadata": {},
   "source": [
    "## Training model"
   ]
  },
  {
   "cell_type": "code",
   "execution_count": null,
   "id": "471425c9",
   "metadata": {},
   "outputs": [],
   "source": [
    "from sklearn.datasets import load_iris"
   ]
  },
  {
   "cell_type": "code",
   "execution_count": null,
   "id": "3278bb49",
   "metadata": {},
   "outputs": [],
   "source": [
    "data, y = load_iris(return_X_y=True, as_frame=True)"
   ]
  },
  {
   "cell_type": "code",
   "execution_count": null,
   "id": "2a783a52",
   "metadata": {},
   "outputs": [],
   "source": [
    "from sklearn.ensemble import RandomForestClassifier\n",
    "\n",
    "rf = RandomForestClassifier(\n",
    "        n_jobs=2,\n",
    "        random_state=42,\n",
    ")\n",
    "rf.fit(data, y)"
   ]
  },
  {
   "cell_type": "markdown",
   "id": "e60f2993",
   "metadata": {},
   "source": [
    "## Saving model"
   ]
  },
  {
   "cell_type": "code",
   "execution_count": null,
   "id": "5f4c4665",
   "metadata": {},
   "outputs": [],
   "source": [
    "from mlem.api import save"
   ]
  },
  {
   "cell_type": "code",
   "execution_count": null,
   "id": "0b85d05f",
   "metadata": {},
   "outputs": [],
   "source": [
    "model = save(\n",
    "        rf,\n",
    "        \"rf\",\n",
    "        sample_data=data,\n",
    "        description=\"Random Forest Classifier\",\n",
    ")"
   ]
  },
  {
   "cell_type": "code",
   "execution_count": null,
   "id": "d16246f4",
   "metadata": {},
   "outputs": [],
   "source": [
    "! ls -la ."
   ]
  },
  {
   "cell_type": "code",
   "execution_count": null,
   "id": "bdf366dd",
   "metadata": {},
   "outputs": [],
   "source": [
    "! cat rf.mlem"
   ]
  },
  {
   "cell_type": "code",
   "execution_count": null,
   "id": "cf296f8e",
   "metadata": {},
   "outputs": [],
   "source": [
    "model.dict()"
   ]
  },
  {
   "cell_type": "code",
   "execution_count": null,
   "id": "315fcea1",
   "metadata": {},
   "outputs": [],
   "source": [
    "import pickle\n",
    "\n",
    "with open(\"rf\", \"rb\") as f:\n",
    "    rf2 = pickle.load(f)\n",
    "\n",
    "rf2"
   ]
  },
  {
   "cell_type": "code",
   "execution_count": null,
   "id": "8486884f",
   "metadata": {},
   "outputs": [],
   "source": [
    "model.requirements.to_pip()"
   ]
  },
  {
   "cell_type": "code",
   "execution_count": null,
   "id": "578ced01",
   "metadata": {},
   "outputs": [],
   "source": [
    "with model.artifacts[\"data\"].open() as f:\n",
    "    rf3 = pickle.load(f)\n",
    "\n",
    "rf3"
   ]
  },
  {
   "cell_type": "code",
   "execution_count": null,
   "id": "cd550976",
   "metadata": {},
   "outputs": [],
   "source": [
    "model.model_type"
   ]
  },
  {
   "cell_type": "code",
   "execution_count": null,
   "id": "712e9d3e",
   "metadata": {},
   "outputs": [],
   "source": [
    "model.model_type.dict()"
   ]
  },
  {
   "cell_type": "code",
   "execution_count": null,
   "id": "145cc2fa",
   "metadata": {},
   "outputs": [],
   "source": [
    "model.model_type.model"
   ]
  },
  {
   "cell_type": "code",
   "execution_count": null,
   "id": "4cda4365",
   "metadata": {},
   "outputs": [],
   "source": [
    "model.model_type.io"
   ]
  },
  {
   "cell_type": "code",
   "execution_count": null,
   "id": "ec7fe0e6",
   "metadata": {},
   "outputs": [],
   "source": [
    "model.model_type.methods[\"predict\"]"
   ]
  },
  {
   "cell_type": "code",
   "execution_count": null,
   "id": "8d8e06e7",
   "metadata": {},
   "outputs": [],
   "source": [
    "model.model_type.methods[\"predict\"].args[0].type_.columns"
   ]
  },
  {
   "cell_type": "code",
   "execution_count": null,
   "id": "5875b8e3",
   "metadata": {},
   "outputs": [],
   "source": [
    "model.model_type.methods[\"predict\"].returns"
   ]
  },
  {
   "cell_type": "markdown",
   "id": "a446f610",
   "metadata": {},
   "source": [
    "## Saving data"
   ]
  },
  {
   "cell_type": "code",
   "execution_count": null,
   "id": "e15f7dd7",
   "metadata": {},
   "outputs": [],
   "source": [
    "dataset = save(\n",
    "        data,\n",
    "        \"iris.csv\",\n",
    "        description=\"Iris Dataset\",\n",
    ")"
   ]
  },
  {
   "cell_type": "code",
   "execution_count": null,
   "id": "e1938319",
   "metadata": {},
   "outputs": [],
   "source": [
    "dataset.dict()"
   ]
  },
  {
   "cell_type": "code",
   "execution_count": null,
   "id": "a342e18b",
   "metadata": {},
   "outputs": [],
   "source": [
    "dataset.requirements.to_pip()"
   ]
  },
  {
   "cell_type": "code",
   "execution_count": null,
   "id": "0f580f33",
   "metadata": {},
   "outputs": [],
   "source": [
    "dataset.reader.dict()"
   ]
  },
  {
   "cell_type": "code",
   "execution_count": null,
   "id": "bfa2780b",
   "metadata": {},
   "outputs": [],
   "source": [
    "dataset.data"
   ]
  },
  {
   "cell_type": "code",
   "execution_count": null,
   "id": "3f4675f0",
   "metadata": {},
   "outputs": [],
   "source": [
    "import pandas as pd\n",
    "\n",
    "data2 = pd.read_csv(\"iris.csv\")"
   ]
  },
  {
   "cell_type": "code",
   "execution_count": null,
   "id": "7fcb74bd",
   "metadata": {},
   "outputs": [],
   "source": [
    "(data2 == data).all()"
   ]
  },
  {
   "cell_type": "markdown",
   "id": "34def62d",
   "metadata": {},
   "source": [
    "## MLEM Project"
   ]
  },
  {
   "cell_type": "code",
   "execution_count": null,
   "id": "20ce4798",
   "metadata": {},
   "outputs": [],
   "source": [
    "! rm -rf rf* data.csv*"
   ]
  },
  {
   "cell_type": "code",
   "execution_count": null,
   "id": "cd8a2ba7",
   "metadata": {},
   "outputs": [],
   "source": [
    "! mlem init"
   ]
  },
  {
   "cell_type": "code",
   "execution_count": null,
   "id": "19a62d7c",
   "metadata": {},
   "outputs": [],
   "source": [
    "! ls -la .mlem"
   ]
  },
  {
   "cell_type": "code",
   "execution_count": null,
   "id": "09da639f",
   "metadata": {},
   "outputs": [],
   "source": [
    "! mlem config set pandas.default_format parquet"
   ]
  },
  {
   "cell_type": "code",
   "execution_count": null,
   "id": "73aa0d9a",
   "metadata": {},
   "outputs": [],
   "source": [
    "save(\n",
    "        rf,\n",
    "        \"rf\",\n",
    "        sample_data=data,\n",
    "        description=\"Random Forest Classifier\",\n",
    ");\n",
    "save(\n",
    "        data,\n",
    "        \"iris\",\n",
    "        description=\"Iris Dataset\",\n",
    ");"
   ]
  },
  {
   "cell_type": "code",
   "execution_count": null,
   "id": "3416f944",
   "metadata": {},
   "outputs": [],
   "source": [
    "! mlem config get pandas.default_format"
   ]
  },
  {
   "cell_type": "code",
   "execution_count": null,
   "id": "313e1e2a",
   "metadata": {},
   "outputs": [],
   "source": [
    "! ls -la .mlem/data"
   ]
  },
  {
   "cell_type": "code",
   "execution_count": null,
   "id": "acfde5df",
   "metadata": {},
   "outputs": [],
   "source": [
    "pd.read_parquet(\".mlem/data/iris\")"
   ]
  },
  {
   "cell_type": "markdown",
   "id": "8d37424e",
   "metadata": {},
   "source": [
    "## MLEM CLI & API"
   ]
  },
  {
   "cell_type": "code",
   "execution_count": null,
   "id": "83eab5d4",
   "metadata": {},
   "outputs": [],
   "source": [
    "! mlem -h"
   ]
  },
  {
   "cell_type": "code",
   "execution_count": null,
   "id": "f8e9fa4a",
   "metadata": {},
   "outputs": [],
   "source": [
    "! mlem ls"
   ]
  },
  {
   "cell_type": "code",
   "execution_count": null,
   "id": "b43f6802",
   "metadata": {},
   "outputs": [],
   "source": [
    "from mlem.api import __all__\n",
    "\n",
    "__all__"
   ]
  },
  {
   "cell_type": "markdown",
   "id": "4ba901c4",
   "metadata": {},
   "source": [
    "## Loading"
   ]
  },
  {
   "cell_type": "code",
   "execution_count": null,
   "id": "e4f99146",
   "metadata": {},
   "outputs": [],
   "source": [
    "from mlem.api import load, load_meta\n",
    "\n",
    "load(\"rf\")"
   ]
  },
  {
   "cell_type": "code",
   "execution_count": null,
   "id": "cffe7e46",
   "metadata": {},
   "outputs": [],
   "source": [
    "remote_rf = load_meta(\"rf\", project=\"https://github.com/iterative/example-mlem-get-started\", rev=\"simple\")"
   ]
  },
  {
   "cell_type": "code",
   "execution_count": null,
   "id": "9a0626c3",
   "metadata": {},
   "outputs": [],
   "source": [
    "remote_rf.loc"
   ]
  },
  {
   "cell_type": "code",
   "execution_count": null,
   "id": "27b38be4",
   "metadata": {},
   "outputs": [],
   "source": [
    "remote_rf.dict()"
   ]
  },
  {
   "cell_type": "code",
   "execution_count": null,
   "id": "55735c3b",
   "metadata": {},
   "outputs": [],
   "source": [
    "remote_rf.load_value()\n",
    "remote_rf.get_value()"
   ]
  },
  {
   "cell_type": "code",
   "execution_count": null,
   "id": "c7170057",
   "metadata": {},
   "outputs": [],
   "source": [
    "remote_rf.predict(data)"
   ]
  },
  {
   "cell_type": "code",
   "execution_count": null,
   "id": "08c1ff34",
   "metadata": {},
   "outputs": [],
   "source": [
    "rf.predict(data)"
   ]
  },
  {
   "cell_type": "markdown",
   "id": "4a369eea",
   "metadata": {},
   "source": [
    "## Serving"
   ]
  },
  {
   "cell_type": "code",
   "execution_count": null,
   "id": "209c0eb8",
   "metadata": {},
   "outputs": [],
   "source": [
    "from mlem.api import serve"
   ]
  },
  {
   "cell_type": "code",
   "execution_count": null,
   "id": "7c2aaa7b",
   "metadata": {},
   "outputs": [],
   "source": [
    "! mlem types server fastapi"
   ]
  },
  {
   "cell_type": "code",
   "execution_count": null,
   "id": "e4f12885",
   "metadata": {},
   "outputs": [],
   "source": [
    "! mlem serve rf fastapi -c port=80"
   ]
  },
  {
   "cell_type": "code",
   "execution_count": null,
   "id": "b35634cd",
   "metadata": {},
   "outputs": [],
   "source": [
    "from mlem.api import build"
   ]
  },
  {
   "cell_type": "code",
   "execution_count": null,
   "id": "68c3461e",
   "metadata": {},
   "outputs": [],
   "source": [
    "! mlem types builder"
   ]
  },
  {
   "cell_type": "code",
   "execution_count": null,
   "id": "6170d06a",
   "metadata": {},
   "outputs": [],
   "source": [
    "! mlem types builder docker_dir"
   ]
  },
  {
   "cell_type": "code",
   "execution_count": null,
   "id": "cd9be11e",
   "metadata": {},
   "outputs": [],
   "source": [
    "build(\"docker_dir\", \"rf\", server=\"fastapi\", target=\"build/docker\")"
   ]
  },
  {
   "cell_type": "code",
   "execution_count": null,
   "id": "32b00294",
   "metadata": {},
   "outputs": [],
   "source": [
    "! ls -la build/docker/"
   ]
  },
  {
   "cell_type": "code",
   "execution_count": null,
   "id": "b5b73731",
   "metadata": {},
   "outputs": [],
   "source": [
    "! cat build/docker/requirements.txt"
   ]
  },
  {
   "cell_type": "code",
   "execution_count": null,
   "id": "05533b30",
   "metadata": {},
   "outputs": [],
   "source": [
    "! cat build/docker/Dockerfile"
   ]
  },
  {
   "cell_type": "code",
   "execution_count": null,
   "id": "110d599a",
   "metadata": {},
   "outputs": [],
   "source": [
    "! cat build/docker/run.sh"
   ]
  },
  {
   "cell_type": "code",
   "execution_count": null,
   "id": "5ca0d94d",
   "metadata": {},
   "outputs": [],
   "source": [
    "! mlem types builder whl"
   ]
  },
  {
   "cell_type": "code",
   "execution_count": null,
   "id": "2af190c5",
   "metadata": {},
   "outputs": [],
   "source": [
    "build(\"whl\", remote_rf, package_name=\"my_rf\", target=\"build/whl\")"
   ]
  },
  {
   "cell_type": "code",
   "execution_count": null,
   "id": "2b355a70",
   "metadata": {},
   "outputs": [],
   "source": [
    "! ls -la build/whl/"
   ]
  },
  {
   "cell_type": "code",
   "execution_count": null,
   "id": "e010486f",
   "metadata": {},
   "outputs": [],
   "source": [
    "! pip install build/whl/my_rf-0.0.0-py3-none-any.whl --no-deps"
   ]
  },
  {
   "cell_type": "code",
   "execution_count": null,
   "id": "6043709b",
   "metadata": {},
   "outputs": [],
   "source": [
    "import my_rf"
   ]
  },
  {
   "cell_type": "code",
   "execution_count": null,
   "id": "e1a27b22",
   "metadata": {},
   "outputs": [],
   "source": [
    "my_rf.predict(data)"
   ]
  },
  {
   "cell_type": "markdown",
   "id": "1ec768c4",
   "metadata": {},
   "source": [
    "## Cloud deployment"
   ]
  },
  {
   "cell_type": "code",
   "execution_count": null,
   "id": "75c5bb17",
   "metadata": {},
   "outputs": [],
   "source": [
    "! mlem declare env heroku staging"
   ]
  },
  {
   "cell_type": "code",
   "execution_count": null,
   "id": "3a0e1d99",
   "metadata": {},
   "outputs": [],
   "source": [
    "! rm -rf .mlem/deployment/service.mlem"
   ]
  },
  {
   "cell_type": "code",
   "execution_count": null,
   "id": "4d866e4a",
   "metadata": {},
   "outputs": [],
   "source": [
    "from mlem.api import deploy"
   ]
  },
  {
   "cell_type": "code",
   "execution_count": null,
   "id": "ba2564bd",
   "metadata": {},
   "outputs": [],
   "source": [
    "deploy(\"service\", \"rf\", \"staging\", app_name=\"mlem-tutorial-notebook\")"
   ]
  },
  {
   "cell_type": "code",
   "execution_count": null,
   "id": "74495b7f",
   "metadata": {},
   "outputs": [],
   "source": [
    "service = load(\"service\")"
   ]
  },
  {
   "cell_type": "code",
   "execution_count": null,
   "id": "d0df5b22",
   "metadata": {},
   "outputs": [],
   "source": [
    "client = service.state.get_client()"
   ]
  },
  {
   "cell_type": "code",
   "execution_count": null,
   "id": "3f4990c2",
   "metadata": {},
   "outputs": [],
   "source": [
    "client.predict(data)"
   ]
  },
  {
   "cell_type": "markdown",
   "id": "3ead2a80",
   "metadata": {},
   "source": [
    "## Cleanup"
   ]
  },
  {
   "cell_type": "code",
   "execution_count": null,
   "id": "b7952672",
   "metadata": {},
   "outputs": [],
   "source": [
    "stop;  # stop \"Run All Cells\""
   ]
  },
  {
   "cell_type": "code",
   "execution_count": null,
   "id": "e26f86cf",
   "metadata": {},
   "outputs": [],
   "source": [
    "! heroku apps:destroy mlem-tutorial-notebook --confirm mlem-tutorial-notebook"
   ]
  },
  {
   "cell_type": "code",
   "execution_count": null,
   "id": "21944d7c",
   "metadata": {},
   "outputs": [],
   "source": [
    "! rm -rf .mlem iris* rf* build/"
   ]
  },
  {
   "cell_type": "code",
   "execution_count": null,
   "id": "ad72bbec",
   "metadata": {},
   "outputs": [],
   "source": [
    "! ls -la"
   ]
  },
  {
   "cell_type": "code",
   "execution_count": null,
   "id": "e6ac4287",
   "metadata": {},
   "outputs": [],
   "source": [
    "! pip uninstall my_rf"
   ]
  }
 ],
 "metadata": {
  "kernelspec": {
   "display_name": "Python 3 (ipykernel)",
   "language": "python",
   "name": "python3"
  },
  "language_info": {
   "codemirror_mode": {
    "name": "ipython",
    "version": 3
   },
   "file_extension": ".py",
   "mimetype": "text/x-python",
   "name": "python",
   "nbconvert_exporter": "python",
   "pygments_lexer": "ipython3",
   "version": "3.9.12"
  }
 },
 "nbformat": 4,
 "nbformat_minor": 5
}
