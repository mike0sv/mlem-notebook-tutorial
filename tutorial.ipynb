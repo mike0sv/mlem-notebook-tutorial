{
 "cells": [
  {
   "cell_type": "code",
   "execution_count": null,
   "id": "b1a82c43",
   "metadata": {},
   "outputs": [],
   "source": [
    "# ! pip install -U mlem scikit-learn fastapi uvicorn pandas numpy docker"
   ]
  },
  {
   "cell_type": "markdown",
   "id": "2c347150",
   "metadata": {},
   "source": [
    "## Training model"
   ]
  },
  {
   "cell_type": "code",
   "execution_count": null,
   "id": "471425c9",
   "metadata": {},
   "outputs": [],
   "source": [
    "from sklearn.datasets import load_iris"
   ]
  },
  {
   "cell_type": "code",
   "execution_count": null,
   "id": "3278bb49",
   "metadata": {},
   "outputs": [],
   "source": [
    "data, y = load_iris(return_X_y=True, as_frame=True)"
   ]
  },
  {
   "cell_type": "code",
   "execution_count": null,
   "id": "2a783a52",
   "metadata": {},
   "outputs": [],
   "source": [
    "from sklearn.ensemble import RandomForestClassifier\n",
    "\n",
    "rf = RandomForestClassifier(\n",
    "        n_jobs=2,\n",
    "        random_state=42,\n",
    ")\n",
    "rf.fit(data, y)"
   ]
  },
  {
   "cell_type": "markdown",
   "id": "e60f2993",
   "metadata": {},
   "source": [
    "## Saving model"
   ]
  },
  {
   "cell_type": "markdown",
   "id": "5c581244",
   "metadata": {},
   "source": [
    "Let's save the model using MLEM"
   ]
  },
  {
   "cell_type": "code",
   "execution_count": null,
   "id": "5f4c4665",
   "metadata": {},
   "outputs": [],
   "source": [
    "from mlem.api import save"
   ]
  },
  {
   "cell_type": "code",
   "execution_count": null,
   "id": "0b85d05f",
   "metadata": {},
   "outputs": [],
   "source": [
    "model = save(\n",
    "        rf,\n",
    "        \"rf\",\n",
    "        sample_data=data,\n",
    "        description=\"Random Forest Classifier\",\n",
    ")"
   ]
  },
  {
   "cell_type": "markdown",
   "id": "8e9dbcac",
   "metadata": {},
   "source": [
    "Let's see what we have now"
   ]
  },
  {
   "cell_type": "code",
   "execution_count": null,
   "id": "d16246f4",
   "metadata": {},
   "outputs": [],
   "source": [
    "! ls -la ."
   ]
  },
  {
   "cell_type": "code",
   "execution_count": null,
   "id": "bdf366dd",
   "metadata": {},
   "outputs": [],
   "source": [
    "! cat rf.mlem"
   ]
  },
  {
   "cell_type": "markdown",
   "id": "196a21f1",
   "metadata": {},
   "source": [
    "This yaml is just serialized `model` object"
   ]
  },
  {
   "cell_type": "code",
   "execution_count": null,
   "id": "cf296f8e",
   "metadata": {},
   "outputs": [],
   "source": [
    "model.dict()"
   ]
  },
  {
   "cell_type": "markdown",
   "id": "e1ce0e75",
   "metadata": {},
   "source": [
    "And `rf` is just a pickle file"
   ]
  },
  {
   "cell_type": "code",
   "execution_count": null,
   "id": "315fcea1",
   "metadata": {},
   "outputs": [],
   "source": [
    "import pickle\n",
    "\n",
    "with open(\"rf\", \"rb\") as f:\n",
    "    rf2 = pickle.load(f)\n",
    "\n",
    "rf2"
   ]
  },
  {
   "cell_type": "markdown",
   "id": "847e32cf",
   "metadata": {},
   "source": [
    "`artifacts` field contains info about files. It can be used to open them"
   ]
  },
  {
   "cell_type": "code",
   "execution_count": null,
   "id": "578ced01",
   "metadata": {},
   "outputs": [],
   "source": [
    "with model.artifacts[\"data\"].open() as f:\n",
    "    rf3 = pickle.load(f)\n",
    "\n",
    "rf3"
   ]
  },
  {
   "cell_type": "markdown",
   "id": "2137d160",
   "metadata": {},
   "source": [
    "`requirements` has python packages with versions pinned"
   ]
  },
  {
   "cell_type": "code",
   "execution_count": null,
   "id": "1a008433",
   "metadata": {},
   "outputs": [],
   "source": [
    "model.requirements.to_pip()"
   ]
  },
  {
   "cell_type": "markdown",
   "id": "80cbfad1",
   "metadata": {},
   "source": [
    "`model_type` is a wrapper for sklearn model. It contains original `rf` object, IO implementation and model methods "
   ]
  },
  {
   "cell_type": "code",
   "execution_count": null,
   "id": "cd550976",
   "metadata": {},
   "outputs": [],
   "source": [
    "model.model_type"
   ]
  },
  {
   "cell_type": "code",
   "execution_count": null,
   "id": "712e9d3e",
   "metadata": {},
   "outputs": [],
   "source": [
    "model.model_type.dict()"
   ]
  },
  {
   "cell_type": "code",
   "execution_count": null,
   "id": "145cc2fa",
   "metadata": {},
   "outputs": [],
   "source": [
    "model.model_type.model"
   ]
  },
  {
   "cell_type": "code",
   "execution_count": null,
   "id": "4cda4365",
   "metadata": {},
   "outputs": [],
   "source": [
    "model.model_type.io"
   ]
  },
  {
   "cell_type": "code",
   "execution_count": null,
   "id": "ec7fe0e6",
   "metadata": {},
   "outputs": [],
   "source": [
    "model.model_type.methods[\"predict\"]"
   ]
  },
  {
   "cell_type": "code",
   "execution_count": null,
   "id": "8d8e06e7",
   "metadata": {},
   "outputs": [],
   "source": [
    "model.model_type.methods[\"predict\"].args[0].type_.columns"
   ]
  },
  {
   "cell_type": "code",
   "execution_count": null,
   "id": "5875b8e3",
   "metadata": {},
   "outputs": [],
   "source": [
    "model.model_type.methods[\"predict\"].returns"
   ]
  },
  {
   "cell_type": "markdown",
   "id": "a446f610",
   "metadata": {},
   "source": [
    "## Saving data"
   ]
  },
  {
   "cell_type": "markdown",
   "id": "95090a5d",
   "metadata": {},
   "source": [
    "Data also can be saved with MLEM. Later it can be used to score new model versions, for example.\n",
    "API is exactly the same"
   ]
  },
  {
   "cell_type": "code",
   "execution_count": null,
   "id": "e15f7dd7",
   "metadata": {},
   "outputs": [],
   "source": [
    "dataset = save(\n",
    "        data,\n",
    "        \"iris.csv\",\n",
    "        description=\"Iris Dataset\",\n",
    ")"
   ]
  },
  {
   "cell_type": "code",
   "execution_count": null,
   "id": "e1938319",
   "metadata": {},
   "outputs": [],
   "source": [
    "dataset.dict()"
   ]
  },
  {
   "cell_type": "code",
   "execution_count": null,
   "id": "a342e18b",
   "metadata": {},
   "outputs": [],
   "source": [
    "dataset.requirements.to_pip()"
   ]
  },
  {
   "cell_type": "markdown",
   "id": "5bda4a7c",
   "metadata": {},
   "source": [
    "Instead of `model_type` data has `data_type` and `reader` "
   ]
  },
  {
   "cell_type": "code",
   "execution_count": null,
   "id": "0f580f33",
   "metadata": {},
   "outputs": [],
   "source": [
    "dataset.reader.dict()"
   ]
  },
  {
   "cell_type": "code",
   "execution_count": null,
   "id": "bfa2780b",
   "metadata": {},
   "outputs": [],
   "source": [
    "dataset.data"
   ]
  },
  {
   "cell_type": "markdown",
   "id": "95744706",
   "metadata": {},
   "source": [
    "pandas DataFrames are saved as csv by default"
   ]
  },
  {
   "cell_type": "code",
   "execution_count": null,
   "id": "3f4675f0",
   "metadata": {},
   "outputs": [],
   "source": [
    "import pandas as pd\n",
    "\n",
    "data2 = pd.read_csv(\"iris.csv\")"
   ]
  },
  {
   "cell_type": "code",
   "execution_count": null,
   "id": "7fcb74bd",
   "metadata": {},
   "outputs": [],
   "source": [
    "(data2 == data).all()"
   ]
  },
  {
   "cell_type": "markdown",
   "id": "34def62d",
   "metadata": {},
   "source": [
    "## MLEM Project"
   ]
  },
  {
   "cell_type": "markdown",
   "id": "09370114",
   "metadata": {},
   "source": [
    "You can organize objects you saved with MLEM Project.\n",
    "\n",
    "Let's clean our workspace and init MLEM Project"
   ]
  },
  {
   "cell_type": "code",
   "execution_count": null,
   "id": "20ce4798",
   "metadata": {},
   "outputs": [],
   "source": [
    "! rm -rf rf* data.csv*"
   ]
  },
  {
   "cell_type": "code",
   "execution_count": null,
   "id": "cd8a2ba7",
   "metadata": {},
   "outputs": [],
   "source": [
    "! mlem init"
   ]
  },
  {
   "cell_type": "markdown",
   "id": "967a1543",
   "metadata": {},
   "source": [
    "MLEM Project actually is just a .mlem dir. For now it only holds empty config file"
   ]
  },
  {
   "cell_type": "code",
   "execution_count": null,
   "id": "19a62d7c",
   "metadata": {},
   "outputs": [],
   "source": [
    "! ls -la .mlem"
   ]
  },
  {
   "cell_type": "markdown",
   "id": "d8a76fef",
   "metadata": {},
   "source": [
    "Now we can change configuration. Lets set default pandas format to parquet and re-save all objects"
   ]
  },
  {
   "cell_type": "code",
   "execution_count": null,
   "id": "09da639f",
   "metadata": {},
   "outputs": [],
   "source": [
    "! mlem config set pandas.default_format parquet"
   ]
  },
  {
   "cell_type": "code",
   "execution_count": null,
   "id": "73aa0d9a",
   "metadata": {},
   "outputs": [],
   "source": [
    "save(\n",
    "        rf,\n",
    "        \"rf\",\n",
    "        sample_data=data,\n",
    "        description=\"Random Forest Classifier\",\n",
    ");\n",
    "save(\n",
    "        data,\n",
    "        \"iris\",\n",
    "        description=\"Iris Dataset\",\n",
    ");"
   ]
  },
  {
   "cell_type": "markdown",
   "id": "efcf2e86",
   "metadata": {},
   "source": [
    "If you are working with MLEM Project, all the objects will be saved into .mlem directory by default"
   ]
  },
  {
   "cell_type": "code",
   "execution_count": null,
   "id": "313e1e2a",
   "metadata": {},
   "outputs": [],
   "source": [
    "! ls -la .mlem/data"
   ]
  },
  {
   "cell_type": "code",
   "execution_count": null,
   "id": "acfde5df",
   "metadata": {},
   "outputs": [],
   "source": [
    "pd.read_parquet(\".mlem/data/iris\")"
   ]
  },
  {
   "cell_type": "markdown",
   "id": "8d37424e",
   "metadata": {},
   "source": [
    "## MLEM CLI & API"
   ]
  },
  {
   "cell_type": "markdown",
   "id": "2e5dff2b",
   "metadata": {},
   "source": [
    "MLEM has a bunch of commands. Most of the API commands have their CLI counterpart"
   ]
  },
  {
   "cell_type": "code",
   "execution_count": null,
   "id": "83eab5d4",
   "metadata": {},
   "outputs": [],
   "source": [
    "! mlem -h"
   ]
  },
  {
   "cell_type": "code",
   "execution_count": null,
   "id": "f8e9fa4a",
   "metadata": {},
   "outputs": [],
   "source": [
    "! mlem ls"
   ]
  },
  {
   "cell_type": "code",
   "execution_count": null,
   "id": "b43f6802",
   "metadata": {},
   "outputs": [],
   "source": [
    "from mlem.api import __all__\n",
    "\n",
    "__all__"
   ]
  },
  {
   "cell_type": "markdown",
   "id": "4ba901c4",
   "metadata": {},
   "source": [
    "## Loading"
   ]
  },
  {
   "cell_type": "markdown",
   "id": "4826bfe7",
   "metadata": {},
   "source": [
    "To load any object saved with MLEM, you should use `load` API method. \n",
    "\n",
    "It will return the exact same object you saved\n",
    "\n",
    "Also there is `load_meta` that will return `MlemObject` instance with metadata (`MlemModel` or `MlemData`)"
   ]
  },
  {
   "cell_type": "code",
   "execution_count": null,
   "id": "e4f99146",
   "metadata": {},
   "outputs": [],
   "source": [
    "from mlem.api import load, load_meta\n",
    "\n",
    "load(\"rf\")"
   ]
  },
  {
   "cell_type": "markdown",
   "id": "bfed54f7",
   "metadata": {},
   "source": [
    "Note that you don't have to specify `.mlem/model/` if you are working in MLEM Project"
   ]
  },
  {
   "cell_type": "markdown",
   "id": "f10f1d72",
   "metadata": {},
   "source": [
    "You also can load remote objects from cloud and github. You can even specify commit/tag/branch\n",
    "\n",
    "Let's load a model from our Get Started repository (it should be exactly the same since it used the same training data)"
   ]
  },
  {
   "cell_type": "code",
   "execution_count": null,
   "id": "cffe7e46",
   "metadata": {},
   "outputs": [],
   "source": [
    "remote_rf = load_meta(\"rf\", project=\"https://github.com/iterative/example-mlem-get-started\", rev=\"simple\")"
   ]
  },
  {
   "cell_type": "markdown",
   "id": "ad6a8a1e",
   "metadata": {},
   "source": [
    "`loc` field has info about original object location"
   ]
  },
  {
   "cell_type": "code",
   "execution_count": null,
   "id": "9a0626c3",
   "metadata": {},
   "outputs": [],
   "source": [
    "remote_rf.loc"
   ]
  },
  {
   "cell_type": "code",
   "execution_count": null,
   "id": "27b38be4",
   "metadata": {},
   "outputs": [],
   "source": [
    "remote_rf.dict()"
   ]
  },
  {
   "cell_type": "code",
   "execution_count": null,
   "id": "d1056795",
   "metadata": {},
   "outputs": [],
   "source": [
    "To get original object from `MlemObject` you need to load it first and then it will be accessible"
   ]
  },
  {
   "cell_type": "code",
   "execution_count": null,
   "id": "55735c3b",
   "metadata": {},
   "outputs": [],
   "source": [
    "remote_rf.load_value()\n",
    "remote_rf.get_value()"
   ]
  },
  {
   "cell_type": "markdown",
   "id": "149a3ba5",
   "metadata": {},
   "source": [
    "You can also call original model methods on `MlemModel` instance "
   ]
  },
  {
   "cell_type": "code",
   "execution_count": null,
   "id": "c7170057",
   "metadata": {},
   "outputs": [],
   "source": [
    "remote_rf.predict(data)"
   ]
  },
  {
   "cell_type": "code",
   "execution_count": null,
   "id": "08c1ff34",
   "metadata": {},
   "outputs": [],
   "source": [
    "rf.predict(data)"
   ]
  },
  {
   "cell_type": "markdown",
   "id": "982d9a6d",
   "metadata": {},
   "source": [
    "## Applying"
   ]
  },
  {
   "cell_type": "markdown",
   "id": "52758f30",
   "metadata": {},
   "source": [
    "If you just want to apply your model to your data, you can do it right from CLI\n"
   ]
  },
  {
   "cell_type": "code",
   "execution_count": null,
   "id": "9e6d138f",
   "metadata": {},
   "outputs": [],
   "source": [
    "! mlem apply rf iris --json"
   ]
  },
  {
   "cell_type": "markdown",
   "id": "79310994",
   "metadata": {},
   "source": [
    "It works with remote objects too"
   ]
  },
  {
   "cell_type": "code",
   "execution_count": null,
   "id": "27c0bcbd",
   "metadata": {},
   "outputs": [],
   "source": [
    "! mlem apply rf --project https://github.com/iterative/example-mlem-get-started --rev simple iris --json"
   ]
  },
  {
   "cell_type": "markdown",
   "id": "4a369eea",
   "metadata": {},
   "source": [
    "## Serving"
   ]
  },
  {
   "cell_type": "markdown",
   "id": "3543761e",
   "metadata": {},
   "source": [
    "Another way to utilize the model is to wrap it with http server.\n",
    "\n",
    "MLEM can do it with a single API/CLI call. We will use CLI because we cannot run server right from notebook"
   ]
  },
  {
   "cell_type": "code",
   "execution_count": null,
   "id": "209c0eb8",
   "metadata": {},
   "outputs": [],
   "source": [
    "from mlem.api import serve"
   ]
  },
  {
   "cell_type": "code",
   "execution_count": null,
   "id": "f6a5dcf0",
   "metadata": {},
   "outputs": [],
   "source": [
    "! mlem serve --help"
   ]
  },
  {
   "cell_type": "markdown",
   "id": "41818cb2",
   "metadata": {},
   "source": [
    "Let's check available fields for fastapi"
   ]
  },
  {
   "cell_type": "code",
   "execution_count": null,
   "id": "7c2aaa7b",
   "metadata": {},
   "outputs": [],
   "source": [
    "! mlem types server fastapi"
   ]
  },
  {
   "cell_type": "code",
   "execution_count": null,
   "id": "e4f12885",
   "metadata": {},
   "outputs": [],
   "source": [
    "! mlem serve rf fastapi -c port=80"
   ]
  },
  {
   "cell_type": "markdown",
   "id": "ffd9e25a",
   "metadata": {},
   "source": [
    "## Builing model packages"
   ]
  },
  {
   "cell_type": "markdown",
   "id": "e6d261a8",
   "metadata": {},
   "source": [
    "You can also build packages from models with MLEM. \n",
    "\n",
    "Think of this as \"exporting\" to another format\n",
    "\n",
    "Let's check available implementations"
   ]
  },
  {
   "cell_type": "code",
   "execution_count": null,
   "id": "b35634cd",
   "metadata": {},
   "outputs": [],
   "source": [
    "from mlem.api import build"
   ]
  },
  {
   "cell_type": "code",
   "execution_count": null,
   "id": "68c3461e",
   "metadata": {},
   "outputs": [],
   "source": [
    "! mlem types builder"
   ]
  },
  {
   "cell_type": "markdown",
   "id": "6a7b3cfb",
   "metadata": {},
   "source": [
    "Let's build a docker diractory (we can do docker image, but that might take some time)"
   ]
  },
  {
   "cell_type": "code",
   "execution_count": null,
   "id": "6170d06a",
   "metadata": {},
   "outputs": [],
   "source": [
    "! mlem types builder docker_dir"
   ]
  },
  {
   "cell_type": "code",
   "execution_count": null,
   "id": "cd9be11e",
   "metadata": {},
   "outputs": [],
   "source": [
    "build(\"docker_dir\", \"rf\", server=\"fastapi\", target=\"build/docker\")"
   ]
  },
  {
   "cell_type": "markdown",
   "id": "f4e55d98",
   "metadata": {},
   "source": [
    "Let's see what it did"
   ]
  },
  {
   "cell_type": "code",
   "execution_count": null,
   "id": "32b00294",
   "metadata": {},
   "outputs": [],
   "source": [
    "! ls -la build/docker/"
   ]
  },
  {
   "cell_type": "code",
   "execution_count": null,
   "id": "b5b73731",
   "metadata": {},
   "outputs": [],
   "source": [
    "! cat build/docker/requirements.txt"
   ]
  },
  {
   "cell_type": "code",
   "execution_count": null,
   "id": "05533b30",
   "metadata": {},
   "outputs": [],
   "source": [
    "! cat build/docker/Dockerfile"
   ]
  },
  {
   "cell_type": "code",
   "execution_count": null,
   "id": "110d599a",
   "metadata": {},
   "outputs": [],
   "source": [
    "! cat build/docker/run.sh"
   ]
  },
  {
   "cell_type": "markdown",
   "id": "b462f698",
   "metadata": {},
   "source": [
    "We can also build python package"
   ]
  },
  {
   "cell_type": "code",
   "execution_count": null,
   "id": "5ca0d94d",
   "metadata": {},
   "outputs": [],
   "source": [
    "! mlem types builder whl"
   ]
  },
  {
   "cell_type": "code",
   "execution_count": null,
   "id": "2af190c5",
   "metadata": {},
   "outputs": [],
   "source": [
    "build(\"whl\", remote_rf, package_name=\"my_rf\", target=\"build/whl\")"
   ]
  },
  {
   "cell_type": "code",
   "execution_count": null,
   "id": "2b355a70",
   "metadata": {},
   "outputs": [],
   "source": [
    "! ls -la build/whl/"
   ]
  },
  {
   "cell_type": "markdown",
   "id": "768ac56c",
   "metadata": {},
   "source": [
    "Let's install it and try out"
   ]
  },
  {
   "cell_type": "code",
   "execution_count": null,
   "id": "e010486f",
   "metadata": {},
   "outputs": [],
   "source": [
    "! pip install build/whl/my_rf-0.0.0-py3-none-any.whl --no-deps"
   ]
  },
  {
   "cell_type": "code",
   "execution_count": null,
   "id": "6043709b",
   "metadata": {},
   "outputs": [],
   "source": [
    "import my_rf"
   ]
  },
  {
   "cell_type": "code",
   "execution_count": null,
   "id": "e1a27b22",
   "metadata": {},
   "outputs": [],
   "source": [
    "my_rf.predict(data)"
   ]
  },
  {
   "cell_type": "markdown",
   "id": "1ec768c4",
   "metadata": {},
   "source": [
    "## Cloud deployment"
   ]
  },
  {
   "cell_type": "markdown",
   "id": "1061a98f",
   "metadata": {},
   "source": [
    "Final option is to deploy your model to some cloud. \n",
    "\n",
    "This is still experimental and for now we support Heroku deployment"
   ]
  },
  {
   "cell_type": "markdown",
   "id": "2d84ca1d",
   "metadata": {},
   "source": [
    "To do it, we need to declare target environment for deployment"
   ]
  },
  {
   "cell_type": "code",
   "execution_count": null,
   "id": "3ae80943",
   "metadata": {},
   "outputs": [],
   "source": []
  },
  {
   "cell_type": "code",
   "execution_count": null,
   "id": "75c5bb17",
   "metadata": {},
   "outputs": [],
   "source": [
    "! mlem declare env heroku staging"
   ]
  },
  {
   "cell_type": "code",
   "execution_count": null,
   "id": "e8968885",
   "metadata": {},
   "outputs": [],
   "source": [
    "! mlem types env heroku"
   ]
  },
  {
   "cell_type": "markdown",
   "id": "bd1610d9",
   "metadata": {},
   "source": [
    "I didn't provide api_key because I did `heroku login`. \n",
    "If you did not, you should provide heroku api_key via env or via configuration"
   ]
  },
  {
   "cell_type": "code",
   "execution_count": null,
   "id": "4d866e4a",
   "metadata": {},
   "outputs": [],
   "source": [
    "from mlem.api import deploy"
   ]
  },
  {
   "cell_type": "code",
   "execution_count": null,
   "id": "c32dde95",
   "metadata": {},
   "outputs": [],
   "source": [
    "! mlem types deployment heroku"
   ]
  },
  {
   "cell_type": "code",
   "execution_count": null,
   "id": "ba2564bd",
   "metadata": {},
   "outputs": [],
   "source": [
    "deploy(\"service\", \"rf\", \"staging\", app_name=\"mlem-tutorial-notebook\")"
   ]
  },
  {
   "cell_type": "code",
   "execution_count": null,
   "id": "c0f79310",
   "metadata": {},
   "outputs": [],
   "source": [
    "Deployment metadata can be loaded just as any other MlemObject"
   ]
  },
  {
   "cell_type": "code",
   "execution_count": null,
   "id": "74495b7f",
   "metadata": {},
   "outputs": [],
   "source": [
    "service = load_meta(\"service\")"
   ]
  },
  {
   "cell_type": "code",
   "execution_count": null,
   "id": "0f80a6b8",
   "metadata": {},
   "outputs": [],
   "source": [
    "You can use it to create client to make requests just like the model is local"
   ]
  },
  {
   "cell_type": "code",
   "execution_count": null,
   "id": "d0df5b22",
   "metadata": {},
   "outputs": [],
   "source": [
    "client = service.state.get_client()"
   ]
  },
  {
   "cell_type": "code",
   "execution_count": null,
   "id": "3f4990c2",
   "metadata": {},
   "outputs": [],
   "source": [
    "client.predict(data)"
   ]
  },
  {
   "cell_type": "markdown",
   "id": "3ead2a80",
   "metadata": {},
   "source": [
    "## Cleanup"
   ]
  },
  {
   "cell_type": "code",
   "execution_count": null,
   "id": "b7952672",
   "metadata": {},
   "outputs": [],
   "source": [
    "stop;  # stop \"Run All Cells\""
   ]
  },
  {
   "cell_type": "code",
   "execution_count": null,
   "id": "e26f86cf",
   "metadata": {},
   "outputs": [],
   "source": [
    "! heroku apps:destroy mlem-tutorial-notebook --confirm mlem-tutorial-notebook"
   ]
  },
  {
   "cell_type": "code",
   "execution_count": null,
   "id": "21944d7c",
   "metadata": {},
   "outputs": [],
   "source": [
    "! rm -rf .mlem iris* rf* build/"
   ]
  },
  {
   "cell_type": "code",
   "execution_count": null,
   "id": "ad72bbec",
   "metadata": {},
   "outputs": [],
   "source": [
    "! ls -la"
   ]
  },
  {
   "cell_type": "code",
   "execution_count": null,
   "id": "e6ac4287",
   "metadata": {},
   "outputs": [],
   "source": [
    "! pip uninstall my_rf"
   ]
  }
 ],
 "metadata": {
  "kernelspec": {
   "display_name": "Python 3 (ipykernel)",
   "language": "python",
   "name": "python3"
  },
  "language_info": {
   "codemirror_mode": {
    "name": "ipython",
    "version": 3
   },
   "file_extension": ".py",
   "mimetype": "text/x-python",
   "name": "python",
   "nbconvert_exporter": "python",
   "pygments_lexer": "ipython3",
   "version": "3.9.12"
  }
 },
 "nbformat": 4,
 "nbformat_minor": 5
}
